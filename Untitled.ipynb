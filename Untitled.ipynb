{
 "cells": [
  {
   "cell_type": "code",
   "execution_count": 2,
   "metadata": {},
   "outputs": [],
   "source": [
    "## quickstart for beginners\n",
    "import tensorflow as tf"
   ]
  },
  {
   "cell_type": "code",
   "execution_count": 6,
   "metadata": {},
   "outputs": [],
   "source": [
    "## load and prepare the MNIST dataset and convert data type.\n",
    "mnist = tf.keras.datasets.mnist   \n",
    "(x_train, y_train), (x_test, y_test) = mnist.load_data()\n",
    "x_train, x_test = x_train / 255.0, x_test / 255.0"
   ]
  },
  {
   "cell_type": "code",
   "execution_count": 7,
   "metadata": {},
   "outputs": [],
   "source": [
    "## Build Sequential model: choose an optimizer and loss function for train.\n",
    "model = tf.keras.models.Sequential([\n",
    "  tf.keras.layers.Flatten(input_shape=(28, 28)),\n",
    "  tf.keras.layers.Dense(128, activation='relu'),\n",
    "  tf.keras.layers.Dropout(0.2),\n",
    "  tf.keras.layers.Dense(10)\n",
    "])"
   ]
  },
  {
   "cell_type": "code",
   "execution_count": 8,
   "metadata": {},
   "outputs": [
    {
     "data": {
      "text/plain": [
       "array([[-0.22503556,  0.09626429,  0.6413267 ,  0.01157345,  0.45167017,\n",
       "         0.48606908, -0.37829056, -0.11780791,  0.19931266,  0.17389107]],\n",
       "      dtype=float32)"
      ]
     },
     "execution_count": 8,
     "metadata": {},
     "output_type": "execute_result"
    }
   ],
   "source": [
    "## vector of logits or log-odds scores\n",
    "predictions = model(x_train[:1]).numpy()\n",
    "predictions"
   ]
  },
  {
   "cell_type": "code",
   "execution_count": 9,
   "metadata": {},
   "outputs": [
    {
     "data": {
      "text/plain": [
       "array([[0.0665883 , 0.09181988, 0.15836322, 0.08436376, 0.1310049 ,\n",
       "        0.13558973, 0.05712683, 0.07412528, 0.10178647, 0.09923151]],\n",
       "      dtype=float32)"
      ]
     },
     "execution_count": 9,
     "metadata": {},
     "output_type": "execute_result"
    }
   ],
   "source": [
    "## softmax : converts these logits to probabilitires\n",
    "tf.nn.softmax(predictions).numpy()"
   ]
  },
  {
   "cell_type": "code",
   "execution_count": 10,
   "metadata": {},
   "outputs": [],
   "source": [
    "## sparse : loss takes a vector of logits and true index and returs a scalar loss.\n",
    "loss_fn = tf.keras.losses.SparseCategoricalCrossentropy(from_logits=True)"
   ]
  },
  {
   "cell_type": "code",
   "execution_count": 11,
   "metadata": {},
   "outputs": [
    {
     "data": {
      "text/plain": [
       "1.9981215"
      ]
     },
     "execution_count": 11,
     "metadata": {},
     "output_type": "execute_result"
    }
   ],
   "source": [
    "## this loss is equal to the negative log probability\n",
    "loss_fn(y_train[:1], predictions).numpy()"
   ]
  },
  {
   "cell_type": "code",
   "execution_count": 12,
   "metadata": {},
   "outputs": [],
   "source": [
    "## model build with this loss function\n",
    "model.compile(optimizer='adam',\n",
    "              loss=loss_fn,\n",
    "              metrics=['accuracy'])"
   ]
  },
  {
   "cell_type": "code",
   "execution_count": 13,
   "metadata": {},
   "outputs": [
    {
     "name": "stdout",
     "output_type": "stream",
     "text": [
      "Epoch 1/5\n",
      "1875/1875 [==============================] - 4s 2ms/step - loss: 0.2954 - accuracy: 0.9135\n",
      "Epoch 2/5\n",
      "1875/1875 [==============================] - 2s 980us/step - loss: 0.1432 - accuracy: 0.9578\n",
      "Epoch 3/5\n",
      "1875/1875 [==============================] - 2s 952us/step - loss: 0.1099 - accuracy: 0.9672\n",
      "Epoch 4/5\n",
      "1875/1875 [==============================] - 2s 956us/step - loss: 0.0896 - accuracy: 0.9721\n",
      "Epoch 5/5\n",
      "1875/1875 [==============================] - 2s 990us/step - loss: 0.0766 - accuracy: 0.9768\n"
     ]
    },
    {
     "data": {
      "text/plain": [
       "<tensorflow.python.keras.callbacks.History at 0x27f1cacc908>"
      ]
     },
     "execution_count": 13,
     "metadata": {},
     "output_type": "execute_result"
    }
   ],
   "source": [
    "## model parameteres to minimize the loss\n",
    "model.fit(x_train, y_train, epochs=5)"
   ]
  },
  {
   "cell_type": "code",
   "execution_count": 14,
   "metadata": {},
   "outputs": [
    {
     "name": "stdout",
     "output_type": "stream",
     "text": [
      "313/313 - 0s - loss: 0.0848 - accuracy: 0.9749\n"
     ]
    },
    {
     "data": {
      "text/plain": [
       "[0.08479765057563782, 0.9749000072479248]"
      ]
     },
     "execution_count": 14,
     "metadata": {},
     "output_type": "execute_result"
    }
   ],
   "source": [
    "## checks model performance with validation set or train set\n",
    "model.evaluate(x_test,  y_test, verbose=2)"
   ]
  },
  {
   "cell_type": "code",
   "execution_count": 15,
   "metadata": {},
   "outputs": [
    {
     "data": {
      "text/plain": [
       "<tf.Tensor: shape=(5, 10), dtype=float32, numpy=\n",
       "array([[3.27609564e-06, 6.07865147e-10, 2.19617263e-07, 1.16947442e-04,\n",
       "        1.24376958e-11, 6.88083617e-07, 1.88162697e-11, 9.99863982e-01,\n",
       "        1.07174472e-07, 1.47971605e-05],\n",
       "       [2.40768736e-06, 3.20592044e-05, 9.99925613e-01, 7.82485495e-06,\n",
       "        2.47443498e-14, 2.10127450e-06, 4.15042950e-06, 4.73078868e-12,\n",
       "        2.57887859e-05, 1.26322970e-14],\n",
       "       [5.84885015e-07, 9.98729527e-01, 2.31761980e-04, 7.85879183e-06,\n",
       "        6.92180720e-06, 1.02366384e-05, 6.38855272e-05, 8.21204565e-04,\n",
       "        1.27753694e-04, 6.31504165e-08],\n",
       "       [9.99994397e-01, 6.18083145e-12, 1.48999902e-07, 2.45170515e-08,\n",
       "        8.47267234e-09, 2.87154580e-06, 1.60890443e-06, 2.56689219e-07,\n",
       "        4.48000463e-08, 7.89373189e-07],\n",
       "       [1.81312180e-06, 5.75406300e-09, 1.82273686e-06, 1.15925353e-07,\n",
       "        9.97225285e-01, 3.17036870e-06, 3.72868817e-06, 6.19714265e-04,\n",
       "        2.69529028e-06, 2.14161514e-03]], dtype=float32)>"
      ]
     },
     "execution_count": 15,
     "metadata": {},
     "output_type": "execute_result"
    }
   ],
   "source": [
    "## model to return a probability (trained model, softmax)\n",
    "probability_model = tf.keras.Sequential([\n",
    "  model,\n",
    "  tf.keras.layers.Softmax()\n",
    "])\n",
    "probability_model(x_test[:5])"
   ]
  },
  {
   "cell_type": "code",
   "execution_count": null,
   "metadata": {},
   "outputs": [],
   "source": []
  }
 ],
 "metadata": {
  "kernelspec": {
   "display_name": "Python 3",
   "language": "python",
   "name": "python3"
  },
  "language_info": {
   "codemirror_mode": {
    "name": "ipython",
    "version": 3
   },
   "file_extension": ".py",
   "mimetype": "text/x-python",
   "name": "python",
   "nbconvert_exporter": "python",
   "pygments_lexer": "ipython3",
   "version": "3.7.3"
  }
 },
 "nbformat": 4,
 "nbformat_minor": 2
}
