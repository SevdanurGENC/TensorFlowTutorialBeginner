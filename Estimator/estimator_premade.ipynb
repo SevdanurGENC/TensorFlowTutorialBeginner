{
 "cells": [
  {
   "cell_type": "code",
   "execution_count": 1,
   "metadata": {},
   "outputs": [],
   "source": [
    "## Premade Estimators\n",
    "# An Estimator is TensorFlow's high-level representation of a complete model, and it has been designed for easy scaling and asynchronous training.\n",
    "# solve the Iris classification problem in TensorFlow using Estimators.\n",
    "import tensorflow as tf \n",
    "import pandas as pd "
   ]
  },
  {
   "cell_type": "code",
   "execution_count": 2,
   "metadata": {},
   "outputs": [],
   "source": [
    "CSV_COLUMN_NAMES = ['SepalLength', 'SepalWidth', 'PetalLength', 'PetalWidth', 'Species']\n",
    "SPECIES = ['Setosa', 'Versicolor', 'Virginica']"
   ]
  },
  {
   "cell_type": "code",
   "execution_count": 3,
   "metadata": {},
   "outputs": [
    {
     "name": "stdout",
     "output_type": "stream",
     "text": [
      "Downloading data from https://storage.googleapis.com/download.tensorflow.org/data/iris_training.csv\n",
      "8192/2194 [================================================================================================================] - 0s 0us/step\n",
      "Downloading data from https://storage.googleapis.com/download.tensorflow.org/data/iris_test.csv\n",
      "8192/573 [============================================================================================================================================================================================================================================================================================================================================================================================================================================] - 0s 0us/step\n"
     ]
    }
   ],
   "source": [
    "train_path = tf.keras.utils.get_file(\n",
    "    \"iris_training.csv\", \"https://storage.googleapis.com/download.tensorflow.org/data/iris_training.csv\")\n",
    "test_path = tf.keras.utils.get_file(\n",
    "    \"iris_test.csv\", \"https://storage.googleapis.com/download.tensorflow.org/data/iris_test.csv\")\n",
    "\n",
    "train = pd.read_csv(train_path, names=CSV_COLUMN_NAMES, header=0)\n",
    "test = pd.read_csv(test_path, names=CSV_COLUMN_NAMES, header=0)"
   ]
  },
  {
   "cell_type": "code",
   "execution_count": 4,
   "metadata": {},
   "outputs": [
    {
     "data": {
      "text/html": [
       "<div>\n",
       "<style scoped>\n",
       "    .dataframe tbody tr th:only-of-type {\n",
       "        vertical-align: middle;\n",
       "    }\n",
       "\n",
       "    .dataframe tbody tr th {\n",
       "        vertical-align: top;\n",
       "    }\n",
       "\n",
       "    .dataframe thead th {\n",
       "        text-align: right;\n",
       "    }\n",
       "</style>\n",
       "<table border=\"1\" class=\"dataframe\">\n",
       "  <thead>\n",
       "    <tr style=\"text-align: right;\">\n",
       "      <th></th>\n",
       "      <th>SepalLength</th>\n",
       "      <th>SepalWidth</th>\n",
       "      <th>PetalLength</th>\n",
       "      <th>PetalWidth</th>\n",
       "      <th>Species</th>\n",
       "    </tr>\n",
       "  </thead>\n",
       "  <tbody>\n",
       "    <tr>\n",
       "      <th>0</th>\n",
       "      <td>6.4</td>\n",
       "      <td>2.8</td>\n",
       "      <td>5.6</td>\n",
       "      <td>2.2</td>\n",
       "      <td>2</td>\n",
       "    </tr>\n",
       "    <tr>\n",
       "      <th>1</th>\n",
       "      <td>5.0</td>\n",
       "      <td>2.3</td>\n",
       "      <td>3.3</td>\n",
       "      <td>1.0</td>\n",
       "      <td>1</td>\n",
       "    </tr>\n",
       "    <tr>\n",
       "      <th>2</th>\n",
       "      <td>4.9</td>\n",
       "      <td>2.5</td>\n",
       "      <td>4.5</td>\n",
       "      <td>1.7</td>\n",
       "      <td>2</td>\n",
       "    </tr>\n",
       "    <tr>\n",
       "      <th>3</th>\n",
       "      <td>4.9</td>\n",
       "      <td>3.1</td>\n",
       "      <td>1.5</td>\n",
       "      <td>0.1</td>\n",
       "      <td>0</td>\n",
       "    </tr>\n",
       "    <tr>\n",
       "      <th>4</th>\n",
       "      <td>5.7</td>\n",
       "      <td>3.8</td>\n",
       "      <td>1.7</td>\n",
       "      <td>0.3</td>\n",
       "      <td>0</td>\n",
       "    </tr>\n",
       "  </tbody>\n",
       "</table>\n",
       "</div>"
      ],
      "text/plain": [
       "   SepalLength  SepalWidth  PetalLength  PetalWidth  Species\n",
       "0          6.4         2.8          5.6         2.2        2\n",
       "1          5.0         2.3          3.3         1.0        1\n",
       "2          4.9         2.5          4.5         1.7        2\n",
       "3          4.9         3.1          1.5         0.1        0\n",
       "4          5.7         3.8          1.7         0.3        0"
      ]
     },
     "execution_count": 4,
     "metadata": {},
     "output_type": "execute_result"
    }
   ],
   "source": [
    "train.head()"
   ]
  },
  {
   "cell_type": "code",
   "execution_count": 5,
   "metadata": {},
   "outputs": [
    {
     "data": {
      "text/html": [
       "<div>\n",
       "<style scoped>\n",
       "    .dataframe tbody tr th:only-of-type {\n",
       "        vertical-align: middle;\n",
       "    }\n",
       "\n",
       "    .dataframe tbody tr th {\n",
       "        vertical-align: top;\n",
       "    }\n",
       "\n",
       "    .dataframe thead th {\n",
       "        text-align: right;\n",
       "    }\n",
       "</style>\n",
       "<table border=\"1\" class=\"dataframe\">\n",
       "  <thead>\n",
       "    <tr style=\"text-align: right;\">\n",
       "      <th></th>\n",
       "      <th>SepalLength</th>\n",
       "      <th>SepalWidth</th>\n",
       "      <th>PetalLength</th>\n",
       "      <th>PetalWidth</th>\n",
       "    </tr>\n",
       "  </thead>\n",
       "  <tbody>\n",
       "    <tr>\n",
       "      <th>0</th>\n",
       "      <td>6.4</td>\n",
       "      <td>2.8</td>\n",
       "      <td>5.6</td>\n",
       "      <td>2.2</td>\n",
       "    </tr>\n",
       "    <tr>\n",
       "      <th>1</th>\n",
       "      <td>5.0</td>\n",
       "      <td>2.3</td>\n",
       "      <td>3.3</td>\n",
       "      <td>1.0</td>\n",
       "    </tr>\n",
       "    <tr>\n",
       "      <th>2</th>\n",
       "      <td>4.9</td>\n",
       "      <td>2.5</td>\n",
       "      <td>4.5</td>\n",
       "      <td>1.7</td>\n",
       "    </tr>\n",
       "    <tr>\n",
       "      <th>3</th>\n",
       "      <td>4.9</td>\n",
       "      <td>3.1</td>\n",
       "      <td>1.5</td>\n",
       "      <td>0.1</td>\n",
       "    </tr>\n",
       "    <tr>\n",
       "      <th>4</th>\n",
       "      <td>5.7</td>\n",
       "      <td>3.8</td>\n",
       "      <td>1.7</td>\n",
       "      <td>0.3</td>\n",
       "    </tr>\n",
       "  </tbody>\n",
       "</table>\n",
       "</div>"
      ],
      "text/plain": [
       "   SepalLength  SepalWidth  PetalLength  PetalWidth\n",
       "0          6.4         2.8          5.6         2.2\n",
       "1          5.0         2.3          3.3         1.0\n",
       "2          4.9         2.5          4.5         1.7\n",
       "3          4.9         3.1          1.5         0.1\n",
       "4          5.7         3.8          1.7         0.3"
      ]
     },
     "execution_count": 5,
     "metadata": {},
     "output_type": "execute_result"
    }
   ],
   "source": [
    "train_y = train.pop('Species')\n",
    "test_y = test.pop('Species')\n",
    "\n",
    "# The label column has now been removed from the features.\n",
    "train.head()"
   ]
  },
  {
   "cell_type": "code",
   "execution_count": 6,
   "metadata": {},
   "outputs": [],
   "source": [
    "# Overview of programming with Estimators\n",
    "\n",
    "def input_evaluation_set():\n",
    "    features = {'SepalLength': np.array([6.4, 5.0]),\n",
    "                'SepalWidth':  np.array([2.8, 2.3]),\n",
    "                'PetalLength': np.array([5.6, 3.3]),\n",
    "                'PetalWidth':  np.array([2.2, 1.0])}\n",
    "    labels = np.array([2, 1])\n",
    "    return features, labels"
   ]
  },
  {
   "cell_type": "code",
   "execution_count": 7,
   "metadata": {},
   "outputs": [],
   "source": [
    "def input_fn(features, labels, training=True, batch_size=256):\n",
    "    \"\"\"An input function for training or evaluating\"\"\"\n",
    "    # Convert the inputs to a Dataset.\n",
    "    dataset = tf.data.Dataset.from_tensor_slices((dict(features), labels))\n",
    "\n",
    "    # Shuffle and repeat if you are in training mode.\n",
    "    if training:\n",
    "        dataset = dataset.shuffle(1000).repeat()\n",
    "    \n",
    "    return dataset.batch(batch_size)\n"
   ]
  },
  {
   "cell_type": "code",
   "execution_count": 8,
   "metadata": {},
   "outputs": [],
   "source": [
    "# Define the feature columns\n",
    "\n",
    "# Feature columns describe how to use the input.\n",
    "my_feature_columns = []\n",
    "for key in train.keys():\n",
    "    my_feature_columns.append(tf.feature_column.numeric_column(key=key))"
   ]
  },
  {
   "cell_type": "code",
   "execution_count": 9,
   "metadata": {},
   "outputs": [
    {
     "name": "stdout",
     "output_type": "stream",
     "text": [
      "INFO:tensorflow:Using default config.\n",
      "WARNING:tensorflow:Using temporary folder as model directory: C:\\Users\\Nano\\AppData\\Local\\Temp\\tmpk5lfvqg7\n",
      "INFO:tensorflow:Using config: {'_model_dir': 'C:\\\\Users\\\\Nano\\\\AppData\\\\Local\\\\Temp\\\\tmpk5lfvqg7', '_tf_random_seed': None, '_save_summary_steps': 100, '_save_checkpoints_steps': None, '_save_checkpoints_secs': 600, '_session_config': allow_soft_placement: true\n",
      "graph_options {\n",
      "  rewrite_options {\n",
      "    meta_optimizer_iterations: ONE\n",
      "  }\n",
      "}\n",
      ", '_keep_checkpoint_max': 5, '_keep_checkpoint_every_n_hours': 10000, '_log_step_count_steps': 100, '_train_distribute': None, '_device_fn': None, '_protocol': None, '_eval_distribute': None, '_experimental_distribute': None, '_experimental_max_worker_delay_secs': None, '_session_creation_timeout_secs': 7200, '_service': None, '_cluster_spec': ClusterSpec({}), '_task_type': 'worker', '_task_id': 0, '_global_id_in_cluster': 0, '_master': '', '_evaluation_master': '', '_is_chief': True, '_num_ps_replicas': 0, '_num_worker_replicas': 1}\n"
     ]
    }
   ],
   "source": [
    "# Instantiate an estimator\n",
    "\n",
    "# Build a DNN with 2 hidden layers with 30 and 10 hidden nodes each.\n",
    "classifier = tf.estimator.DNNClassifier(\n",
    "    feature_columns=my_feature_columns,\n",
    "    # Two hidden layers of 30 and 10 nodes respectively.\n",
    "    hidden_units=[30, 10],\n",
    "    # The model must choose between 3 classes.\n",
    "    n_classes=3)"
   ]
  },
  {
   "cell_type": "code",
   "execution_count": 10,
   "metadata": {},
   "outputs": [
    {
     "name": "stdout",
     "output_type": "stream",
     "text": [
      "WARNING:tensorflow:From C:\\Users\\Nano\\Anaconda3\\lib\\site-packages\\tensorflow\\python\\training\\training_util.py:236: Variable.initialized_value (from tensorflow.python.ops.variables) is deprecated and will be removed in a future version.\n",
      "Instructions for updating:\n",
      "Use Variable.read_value. Variables in 2.X are initialized automatically both in eager and graph (inside tf.defun) contexts.\n",
      "INFO:tensorflow:Calling model_fn.\n",
      "WARNING:tensorflow:Layer dnn is casting an input tensor from dtype float64 to the layer's dtype of float32, which is new behavior in TensorFlow 2.  The layer has dtype float32 because its dtype defaults to floatx.\n",
      "\n",
      "If you intended to run this layer in float32, you can safely ignore this warning. If in doubt, this warning is likely only an issue if you are porting a TensorFlow 1.X model to TensorFlow 2.\n",
      "\n",
      "To change all layers to have dtype float64 by default, call `tf.keras.backend.set_floatx('float64')`. To change just this layer, pass dtype='float64' to the layer constructor. If you are the author of this layer, you can disable autocasting by passing autocast=False to the base Layer constructor.\n",
      "\n",
      "WARNING:tensorflow:From C:\\Users\\Nano\\Anaconda3\\lib\\site-packages\\tensorflow\\python\\keras\\optimizer_v2\\adagrad.py:83: calling Constant.__init__ (from tensorflow.python.ops.init_ops) with dtype is deprecated and will be removed in a future version.\n",
      "Instructions for updating:\n",
      "Call initializer instance with the dtype argument instead of passing it to the constructor\n",
      "INFO:tensorflow:Done calling model_fn.\n",
      "INFO:tensorflow:Create CheckpointSaverHook.\n",
      "INFO:tensorflow:Graph was finalized.\n",
      "INFO:tensorflow:Running local_init_op.\n",
      "INFO:tensorflow:Done running local_init_op.\n",
      "INFO:tensorflow:Calling checkpoint listeners before saving checkpoint 0...\n",
      "INFO:tensorflow:Saving checkpoints for 0 into C:\\Users\\Nano\\AppData\\Local\\Temp\\tmpk5lfvqg7\\model.ckpt.\n",
      "INFO:tensorflow:Calling checkpoint listeners after saving checkpoint 0...\n",
      "INFO:tensorflow:loss = 1.9823068, step = 0\n",
      "INFO:tensorflow:global_step/sec: 513.082\n",
      "INFO:tensorflow:loss = 1.3269436, step = 100 (0.198 sec)\n",
      "INFO:tensorflow:global_step/sec: 381.878\n",
      "INFO:tensorflow:loss = 1.1494696, step = 200 (0.264 sec)\n",
      "INFO:tensorflow:global_step/sec: 248.301\n",
      "INFO:tensorflow:loss = 1.0728538, step = 300 (0.442 sec)\n",
      "INFO:tensorflow:global_step/sec: 403.415\n",
      "INFO:tensorflow:loss = 1.0163534, step = 400 (0.208 sec)\n",
      "INFO:tensorflow:global_step/sec: 354.817\n",
      "INFO:tensorflow:loss = 0.99144924, step = 500 (0.281 sec)\n",
      "INFO:tensorflow:global_step/sec: 202.966\n",
      "INFO:tensorflow:loss = 0.9523492, step = 600 (0.497 sec)\n",
      "INFO:tensorflow:global_step/sec: 490.483\n",
      "INFO:tensorflow:loss = 0.946537, step = 700 (0.199 sec)\n",
      "INFO:tensorflow:global_step/sec: 568.511\n",
      "INFO:tensorflow:loss = 0.9057803, step = 800 (0.176 sec)\n",
      "INFO:tensorflow:global_step/sec: 574.969\n",
      "INFO:tensorflow:loss = 0.8917459, step = 900 (0.227 sec)\n",
      "INFO:tensorflow:global_step/sec: 495.389\n",
      "INFO:tensorflow:loss = 0.86902905, step = 1000 (0.149 sec)\n",
      "INFO:tensorflow:global_step/sec: 662.634\n",
      "INFO:tensorflow:loss = 0.8687285, step = 1100 (0.151 sec)\n",
      "INFO:tensorflow:global_step/sec: 529.405\n",
      "INFO:tensorflow:loss = 0.83989084, step = 1200 (0.189 sec)\n",
      "INFO:tensorflow:global_step/sec: 658.275\n",
      "INFO:tensorflow:loss = 0.81794083, step = 1300 (0.152 sec)\n",
      "INFO:tensorflow:global_step/sec: 641.339\n",
      "INFO:tensorflow:loss = 0.80622745, step = 1400 (0.156 sec)\n",
      "INFO:tensorflow:global_step/sec: 578.41\n",
      "INFO:tensorflow:loss = 0.7843298, step = 1500 (0.173 sec)\n",
      "INFO:tensorflow:global_step/sec: 629.293\n",
      "INFO:tensorflow:loss = 0.76520693, step = 1600 (0.158 sec)\n",
      "INFO:tensorflow:global_step/sec: 629.298\n",
      "INFO:tensorflow:loss = 0.7408842, step = 1700 (0.159 sec)\n",
      "INFO:tensorflow:global_step/sec: 595.583\n",
      "INFO:tensorflow:loss = 0.74000496, step = 1800 (0.169 sec)\n",
      "INFO:tensorflow:global_step/sec: 662.63\n",
      "INFO:tensorflow:loss = 0.72986794, step = 1900 (0.152 sec)\n",
      "INFO:tensorflow:global_step/sec: 387.812\n",
      "INFO:tensorflow:loss = 0.71971977, step = 2000 (0.259 sec)\n",
      "INFO:tensorflow:global_step/sec: 245.227\n",
      "INFO:tensorflow:loss = 0.6967246, step = 2100 (0.408 sec)\n",
      "INFO:tensorflow:global_step/sec: 247.68\n",
      "INFO:tensorflow:loss = 0.6873648, step = 2200 (0.406 sec)\n",
      "INFO:tensorflow:global_step/sec: 269.55\n",
      "INFO:tensorflow:loss = 0.663419, step = 2300 (0.370 sec)\n",
      "INFO:tensorflow:global_step/sec: 255.224\n",
      "INFO:tensorflow:loss = 0.6708791, step = 2400 (0.393 sec)\n",
      "INFO:tensorflow:global_step/sec: 483.446\n",
      "INFO:tensorflow:loss = 0.65789384, step = 2500 (0.204 sec)\n",
      "INFO:tensorflow:global_step/sec: 462.096\n",
      "INFO:tensorflow:loss = 0.6443641, step = 2600 (0.216 sec)\n",
      "INFO:tensorflow:global_step/sec: 495.208\n",
      "INFO:tensorflow:loss = 0.63812816, step = 2700 (0.204 sec)\n",
      "INFO:tensorflow:global_step/sec: 366.525\n",
      "INFO:tensorflow:loss = 0.61932504, step = 2800 (0.284 sec)\n",
      "INFO:tensorflow:global_step/sec: 268.154\n",
      "INFO:tensorflow:loss = 0.6258029, step = 2900 (0.365 sec)\n",
      "INFO:tensorflow:global_step/sec: 225.665\n",
      "INFO:tensorflow:loss = 0.6079657, step = 3000 (0.441 sec)\n",
      "INFO:tensorflow:global_step/sec: 440.793\n",
      "INFO:tensorflow:loss = 0.60674345, step = 3100 (0.223 sec)\n",
      "INFO:tensorflow:global_step/sec: 571.758\n",
      "INFO:tensorflow:loss = 0.57739156, step = 3200 (0.175 sec)\n",
      "INFO:tensorflow:global_step/sec: 588.573\n",
      "INFO:tensorflow:loss = 0.58464783, step = 3300 (0.170 sec)\n",
      "INFO:tensorflow:global_step/sec: 558.963\n",
      "INFO:tensorflow:loss = 0.5754608, step = 3400 (0.181 sec)\n",
      "INFO:tensorflow:global_step/sec: 435.207\n",
      "INFO:tensorflow:loss = 0.56129134, step = 3500 (0.228 sec)\n",
      "INFO:tensorflow:global_step/sec: 641.25\n",
      "INFO:tensorflow:loss = 0.5593834, step = 3600 (0.156 sec)\n",
      "INFO:tensorflow:global_step/sec: 649.772\n",
      "INFO:tensorflow:loss = 0.5454241, step = 3700 (0.154 sec)\n",
      "INFO:tensorflow:global_step/sec: 431.287\n",
      "INFO:tensorflow:loss = 0.5607132, step = 3800 (0.235 sec)\n",
      "INFO:tensorflow:global_step/sec: 248.899\n",
      "INFO:tensorflow:loss = 0.53715837, step = 3900 (0.401 sec)\n",
      "INFO:tensorflow:global_step/sec: 291.71\n",
      "INFO:tensorflow:loss = 0.53254265, step = 4000 (0.343 sec)\n",
      "INFO:tensorflow:global_step/sec: 228.953\n",
      "INFO:tensorflow:loss = 0.5208047, step = 4100 (0.437 sec)\n",
      "INFO:tensorflow:global_step/sec: 225.169\n",
      "INFO:tensorflow:loss = 0.5260667, step = 4200 (0.445 sec)\n",
      "INFO:tensorflow:global_step/sec: 256.558\n",
      "INFO:tensorflow:loss = 0.5122046, step = 4300 (0.390 sec)\n",
      "INFO:tensorflow:global_step/sec: 254.683\n",
      "INFO:tensorflow:loss = 0.51106155, step = 4400 (0.390 sec)\n",
      "INFO:tensorflow:global_step/sec: 575.246\n",
      "INFO:tensorflow:loss = 0.5084595, step = 4500 (0.175 sec)\n",
      "INFO:tensorflow:global_step/sec: 419.264\n",
      "INFO:tensorflow:loss = 0.49422383, step = 4600 (0.238 sec)\n",
      "INFO:tensorflow:global_step/sec: 369.208\n",
      "INFO:tensorflow:loss = 0.50133914, step = 4700 (0.274 sec)\n",
      "INFO:tensorflow:global_step/sec: 296.549\n",
      "INFO:tensorflow:loss = 0.49179307, step = 4800 (0.334 sec)\n",
      "INFO:tensorflow:global_step/sec: 532.226\n",
      "INFO:tensorflow:loss = 0.4771468, step = 4900 (0.323 sec)\n",
      "INFO:tensorflow:Calling checkpoint listeners before saving checkpoint 5000...\n",
      "INFO:tensorflow:Saving checkpoints for 5000 into C:\\Users\\Nano\\AppData\\Local\\Temp\\tmpk5lfvqg7\\model.ckpt.\n",
      "INFO:tensorflow:Calling checkpoint listeners after saving checkpoint 5000...\n",
      "INFO:tensorflow:Loss for final step: 0.48204187.\n"
     ]
    },
    {
     "data": {
      "text/plain": [
       "<tensorflow_estimator.python.estimator.canned.dnn.DNNClassifierV2 at 0x1fb73cedef0>"
      ]
     },
     "execution_count": 10,
     "metadata": {},
     "output_type": "execute_result"
    }
   ],
   "source": [
    "# Train, Evaluate, and Predict\n",
    "\n",
    "# Train the Model.\n",
    "classifier.train(\n",
    "    input_fn=lambda: input_fn(train, train_y, training=True),\n",
    "    steps=5000)"
   ]
  },
  {
   "cell_type": "code",
   "execution_count": 11,
   "metadata": {},
   "outputs": [
    {
     "name": "stdout",
     "output_type": "stream",
     "text": [
      "INFO:tensorflow:Calling model_fn.\n",
      "WARNING:tensorflow:Layer dnn is casting an input tensor from dtype float64 to the layer's dtype of float32, which is new behavior in TensorFlow 2.  The layer has dtype float32 because its dtype defaults to floatx.\n",
      "\n",
      "If you intended to run this layer in float32, you can safely ignore this warning. If in doubt, this warning is likely only an issue if you are porting a TensorFlow 1.X model to TensorFlow 2.\n",
      "\n",
      "To change all layers to have dtype float64 by default, call `tf.keras.backend.set_floatx('float64')`. To change just this layer, pass dtype='float64' to the layer constructor. If you are the author of this layer, you can disable autocasting by passing autocast=False to the base Layer constructor.\n",
      "\n",
      "INFO:tensorflow:Done calling model_fn.\n",
      "INFO:tensorflow:Starting evaluation at 2020-05-25T14:13:35Z\n",
      "INFO:tensorflow:Graph was finalized.\n",
      "INFO:tensorflow:Restoring parameters from C:\\Users\\Nano\\AppData\\Local\\Temp\\tmpk5lfvqg7\\model.ckpt-5000\n",
      "INFO:tensorflow:Running local_init_op.\n",
      "INFO:tensorflow:Done running local_init_op.\n",
      "INFO:tensorflow:Inference Time : 0.32090s\n",
      "INFO:tensorflow:Finished evaluation at 2020-05-25-14:13:36\n",
      "INFO:tensorflow:Saving dict for global step 5000: accuracy = 0.73333335, average_loss = 0.57547176, global_step = 5000, loss = 0.57547176\n",
      "INFO:tensorflow:Saving 'checkpoint_path' summary for global step 5000: C:\\Users\\Nano\\AppData\\Local\\Temp\\tmpk5lfvqg7\\model.ckpt-5000\n",
      "\n",
      "Test set accuracy: 0.733\n",
      "\n"
     ]
    }
   ],
   "source": [
    "# Evaluate the trained model\n",
    "\n",
    "eval_result = classifier.evaluate(\n",
    "    input_fn=lambda: input_fn(test, test_y, training=False))\n",
    "\n",
    "print('\\nTest set accuracy: {accuracy:0.3f}\\n'.format(**eval_result))"
   ]
  },
  {
   "cell_type": "code",
   "execution_count": 12,
   "metadata": {},
   "outputs": [],
   "source": [
    "# Making predictions (inferring) from the trained model\n",
    "\n",
    "# Generate predictions from the model\n",
    "expected = ['Setosa', 'Versicolor', 'Virginica']\n",
    "predict_x = {\n",
    "    'SepalLength': [5.1, 5.9, 6.9],\n",
    "    'SepalWidth': [3.3, 3.0, 3.1],\n",
    "    'PetalLength': [1.7, 4.2, 5.4],\n",
    "    'PetalWidth': [0.5, 1.5, 2.1],\n",
    "}\n",
    "\n",
    "def input_fn(features, batch_size=256):\n",
    "    \"\"\"An input function for prediction.\"\"\"\n",
    "    # Convert the inputs to a Dataset without labels.\n",
    "    return tf.data.Dataset.from_tensor_slices(dict(features)).batch(batch_size)\n",
    "\n",
    "predictions = classifier.predict(\n",
    "    input_fn=lambda: input_fn(predict_x))"
   ]
  },
  {
   "cell_type": "code",
   "execution_count": 13,
   "metadata": {},
   "outputs": [
    {
     "name": "stdout",
     "output_type": "stream",
     "text": [
      "INFO:tensorflow:Calling model_fn.\n",
      "INFO:tensorflow:Done calling model_fn.\n",
      "INFO:tensorflow:Graph was finalized.\n",
      "INFO:tensorflow:Restoring parameters from C:\\Users\\Nano\\AppData\\Local\\Temp\\tmpk5lfvqg7\\model.ckpt-5000\n",
      "INFO:tensorflow:Running local_init_op.\n",
      "INFO:tensorflow:Done running local_init_op.\n",
      "Prediction is \"Setosa\" (78.3%), expected \"Setosa\"\n",
      "Prediction is \"Virginica\" (47.9%), expected \"Versicolor\"\n",
      "Prediction is \"Virginica\" (61.1%), expected \"Virginica\"\n"
     ]
    }
   ],
   "source": [
    "for pred_dict, expec in zip(predictions, expected):\n",
    "    class_id = pred_dict['class_ids'][0]\n",
    "    probability = pred_dict['probabilities'][class_id]\n",
    "\n",
    "    print('Prediction is \"{}\" ({:.1f}%), expected \"{}\"'.format(\n",
    "        SPECIES[class_id], 100 * probability, expec))"
   ]
  }
 ],
 "metadata": {
  "kernelspec": {
   "display_name": "Python 3",
   "language": "python",
   "name": "python3"
  },
  "language_info": {
   "codemirror_mode": {
    "name": "ipython",
    "version": 3
   },
   "file_extension": ".py",
   "mimetype": "text/x-python",
   "name": "python",
   "nbconvert_exporter": "python",
   "pygments_lexer": "ipython3",
   "version": "3.7.3"
  }
 },
 "nbformat": 4,
 "nbformat_minor": 2
}
